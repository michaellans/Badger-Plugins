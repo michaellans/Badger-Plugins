{
 "cells": [
  {
   "cell_type": "code",
   "execution_count": 11,
   "id": "43dfe663-0fe0-40e5-9278-421241c7ce95",
   "metadata": {},
   "outputs": [],
   "source": [
    "%load_ext autoreload\n",
    "%autoreload 2"
   ]
  },
  {
   "cell_type": "code",
   "execution_count": 1,
   "id": "f5359236-3c8b-4aab-8301-3734ecaac2a2",
   "metadata": {},
   "outputs": [],
   "source": [
    "from badger.factory import get_env"
   ]
  },
  {
   "cell_type": "code",
   "execution_count": 5,
   "id": "2960760b-f807-47be-a52d-fbaf7eb852a1",
   "metadata": {},
   "outputs": [],
   "source": [
    "Environment, configs = get_env('inj_surrogate_lume')\n",
    "env = Environment()"
   ]
  },
  {
   "cell_type": "code",
   "execution_count": 7,
   "id": "3f4e7d88-9ded-4d14-be3e-d591b6c4ac39",
   "metadata": {},
   "outputs": [
    {
     "data": {
      "text/plain": [
       "{'CAMR:IN20:186:R_DIST': [210.0, 500.0],\n",
       " 'Pulse_length': [1.81, 7.27],\n",
       " 'FBCK:BCI0:1:CHRG_S': [0.25, 0.25],\n",
       " 'SOLN:IN20:121:BACT': [0.37, 0.5],\n",
       " 'QUAD:IN20:121:BACT': [-0.02, 0.02],\n",
       " 'QUAD:IN20:122:BACT': [-0.02, 0.02],\n",
       " 'ACCL:IN20:300:L0A_ADES': [58.0, 58.0],\n",
       " 'ACCL:IN20:300:L0A_PDES': [-25.0, 10.0],\n",
       " 'ACCL:IN20:400:L0B_ADES': [70.0, 70.0],\n",
       " 'ACCL:IN20:400:L0B_PDES': [-25.0, 10.0],\n",
       " 'QUAD:IN20:361:BACT': [-4.0, -1.0],\n",
       " 'QUAD:IN20:371:BACT': [1.0, 4.3],\n",
       " 'QUAD:IN20:425:BACT': [-7.55, -1.0],\n",
       " 'QUAD:IN20:441:BACT': [-1.0, 7.55],\n",
       " 'QUAD:IN20:511:BACT': [-1.0, 7.55],\n",
       " 'QUAD:IN20:525:BACT': [-7.55, -1.0]}"
      ]
     },
     "execution_count": 7,
     "metadata": {},
     "output_type": "execute_result"
    }
   ],
   "source": [
    "env.variables"
   ]
  },
  {
   "cell_type": "code",
   "execution_count": 8,
   "id": "8d4d890d-a04d-4110-840f-b0af5f6a6fac",
   "metadata": {},
   "outputs": [
    {
     "data": {
      "text/plain": [
       "{'SOLN:IN20:121:BACT': 0.478}"
      ]
     },
     "execution_count": 8,
     "metadata": {},
     "output_type": "execute_result"
    }
   ],
   "source": [
    "env.get_variables(['SOLN:IN20:121:BACT'])"
   ]
  },
  {
   "cell_type": "code",
   "execution_count": 9,
   "id": "e830c5a6-de48-4aab-9d14-2a657ff0beda",
   "metadata": {},
   "outputs": [
    {
     "data": {
      "text/plain": [
       "['OTRS:IN20:571:XRMS',\n",
       " 'OTRS:IN20:571:YRMS',\n",
       " 'sigma_z',\n",
       " 'norm_emit_x',\n",
       " 'norm_emit_y']"
      ]
     },
     "execution_count": 9,
     "metadata": {},
     "output_type": "execute_result"
    }
   ],
   "source": [
    "env.observables"
   ]
  },
  {
   "cell_type": "code",
   "execution_count": 10,
   "id": "61614d04-0bb4-41c0-84e4-b6d068f5c93d",
   "metadata": {},
   "outputs": [
    {
     "data": {
      "text/plain": [
       "{'norm_emit_x': 31212688.98649803}"
      ]
     },
     "execution_count": 10,
     "metadata": {},
     "output_type": "execute_result"
    }
   ],
   "source": [
    "env.get_observables(['norm_emit_x'])"
   ]
  },
  {
   "cell_type": "code",
   "execution_count": null,
   "id": "9e2d032e-6b3f-4dcc-8708-9f19f0b1ac49",
   "metadata": {},
   "outputs": [],
   "source": []
  }
 ],
 "metadata": {
  "kernelspec": {
   "display_name": "Python 3 (ipykernel)",
   "language": "python",
   "name": "python3"
  },
  "language_info": {
   "codemirror_mode": {
    "name": "ipython",
    "version": 3
   },
   "file_extension": ".py",
   "mimetype": "text/x-python",
   "name": "python",
   "nbconvert_exporter": "python",
   "pygments_lexer": "ipython3",
   "version": "3.11.9"
  }
 },
 "nbformat": 4,
 "nbformat_minor": 5
}
