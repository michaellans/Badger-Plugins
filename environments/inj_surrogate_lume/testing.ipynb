{
 "cells": [
  {
   "cell_type": "code",
   "execution_count": 1,
   "id": "18facac7-444f-44e6-a15e-38966ca4bf3d",
   "metadata": {},
   "outputs": [],
   "source": [
    "from injector_surrogate_quads import SurrogateNN\n",
    "import numpy as np"
   ]
  },
  {
   "cell_type": "code",
   "execution_count": 2,
   "id": "a02bafc1-fc6d-4f72-b29e-d215ed9cc444",
   "metadata": {},
   "outputs": [],
   "source": [
    "nn = SurrogateNN()"
   ]
  },
  {
   "cell_type": "code",
   "execution_count": 6,
   "id": "cf069e83-3d1f-46f8-ac5f-a9b6793a7c31",
   "metadata": {},
   "outputs": [],
   "source": [
    "variables  = [[ 3.9221e+02,  3.5380e+00,  2.5000e-01,  4.4720e-01, -8.2369e-04,\n",
    "         1.3596e-02,  5.8000e+01,  2.7935e+00,  7.0000e+01, -9.8690e+00,\n",
    "        -2.3205e+00,  2.6090e+00, -2.5998e+00, -7.7558e-01,  4.0487e+00,\n",
    "        -2.5267e+00]]"
   ]
  },
  {
   "cell_type": "code",
   "execution_count": 7,
   "id": "fdeb7f4c-803d-4106-b8db-3d7abd83e6e4",
   "metadata": {},
   "outputs": [
    {
     "data": {
      "text/plain": [
       "TorchModule(\n",
       "  (base_model): Sequential(\n",
       "    (0): Linear(in_features=16, out_features=100, bias=True)\n",
       "    (1): ELU(alpha=1.0)\n",
       "    (2): Linear(in_features=100, out_features=200, bias=True)\n",
       "    (3): ELU(alpha=1.0)\n",
       "    (4): Dropout(p=0.05, inplace=False)\n",
       "    (5): Linear(in_features=200, out_features=200, bias=True)\n",
       "    (6): ELU(alpha=1.0)\n",
       "    (7): Dropout(p=0.05, inplace=False)\n",
       "    (8): Linear(in_features=200, out_features=300, bias=True)\n",
       "    (9): ELU(alpha=1.0)\n",
       "    (10): Dropout(p=0.05, inplace=False)\n",
       "    (11): Linear(in_features=300, out_features=300, bias=True)\n",
       "    (12): ELU(alpha=1.0)\n",
       "    (13): Dropout(p=0.05, inplace=False)\n",
       "    (14): Linear(in_features=300, out_features=200, bias=True)\n",
       "    (15): ELU(alpha=1.0)\n",
       "    (16): Dropout(p=0.05, inplace=False)\n",
       "    (17): Linear(in_features=200, out_features=100, bias=True)\n",
       "    (18): ELU(alpha=1.0)\n",
       "    (19): Dropout(p=0.05, inplace=False)\n",
       "    (20): Linear(in_features=100, out_features=100, bias=True)\n",
       "    (21): ELU(alpha=1.0)\n",
       "    (22): Linear(in_features=100, out_features=100, bias=True)\n",
       "    (23): ELU(alpha=1.0)\n",
       "    (24): Linear(in_features=100, out_features=5, bias=True)\n",
       "  )\n",
       "  (input_transformers_0): AffineInputTransform()\n",
       "  (input_transformers_1): AffineInputTransform()\n",
       "  (output_transformers_0): AffineInputTransform()\n",
       "  (output_transformers_1): AffineInputTransform()\n",
       ")"
      ]
     },
     "execution_count": 7,
     "metadata": {},
     "output_type": "execute_result"
    }
   ],
   "source": [
    "model = nn.create_torch_model()\n",
    "nn.create_torch_module(model)"
   ]
  },
  {
   "cell_type": "code",
   "execution_count": 8,
   "id": "1eb4b594-ef36-4737-b57c-3530d70ead03",
   "metadata": {},
   "outputs": [
    {
     "data": {
      "text/plain": [
       "tensor([1.7819e+02, 1.4450e+03, 5.4184e-04, 1.4161e-06, 1.1945e-06],\n",
       "       dtype=torch.float64)"
      ]
     },
     "execution_count": 8,
     "metadata": {},
     "output_type": "execute_result"
    }
   ],
   "source": [
    "nn.pred_sim_units(variables)"
   ]
  },
  {
   "cell_type": "code",
   "execution_count": 9,
   "id": "232ad6fe-7f9e-417d-9275-4aaafcb5a57e",
   "metadata": {},
   "outputs": [],
   "source": [
    "    _variables = {\n",
    "        'CAMR:IN20:186:R_DIST': 0.424,\n",
    "        'Pulse_length': 3.061,\n",
    "        'FBCK:BCI0:1:CHRG_S': 250.00,\n",
    "        'SOLN:IN20:121:BACT': 0.246,\n",
    "        'QUAD:IN20:121:BACT': 0.001,\n",
    "        'QUAD:IN20:122:BACT':  0.0003,\n",
    "        'ACCL:IN20:300:L0A_ADES': 58000000.0,\n",
    "        'ACCL:IN20:300:L0A_PDES': -9.54,\n",
    "        'ACCL:IN20:400:L0B_ADES': 70000000.0,\n",
    "        'ACCL:IN20:400:L0B_PDES': 9.85,\n",
    "        'QUAD:IN20:361:BACT': 1.85,\n",
    "        'QUAD:IN20:371:BACT': -1.85,\n",
    "        'QUAD:IN20:425:BACT': 1.00,\n",
    "        'QUAD:IN20:441:BACT': 0.17,\n",
    "        'QUAD:IN20:511:BACT': -2.64,\n",
    "        'QUAD:IN20:525:BACT': 2.98,\n",
    "    }"
   ]
  },
  {
   "cell_type": "code",
   "execution_count": 14,
   "id": "bebb747a-7f93-4372-a0c9-8ae9ef2a9036",
   "metadata": {},
   "outputs": [],
   "source": [
    "import torch"
   ]
  },
  {
   "cell_type": "code",
   "execution_count": 20,
   "id": "141b1733-b2f9-44f7-b2e1-da52d8f3ac6b",
   "metadata": {},
   "outputs": [],
   "source": [
    "torch.set_printoptions(precision=2)"
   ]
  },
  {
   "cell_type": "code",
   "execution_count": 15,
   "id": "dba4c444-a56d-4340-904b-8f3711725edd",
   "metadata": {},
   "outputs": [
    {
     "data": {
      "text/plain": [
       "tensor([[ 4.2400e-01,  3.0610e+00,  2.5000e+02,  2.4600e-01,  1.0000e-03,\n",
       "          3.0000e-04,  5.8000e+07, -9.5400e+00,  7.0000e+07,  9.8500e+00,\n",
       "          1.8500e+00, -1.8500e+00,  1.0000e+00,  1.7000e-01, -2.6400e+00,\n",
       "          2.9800e+00]])"
      ]
     },
     "execution_count": 15,
     "metadata": {},
     "output_type": "execute_result"
    }
   ],
   "source": [
    "a = list(_variables.values())\n",
    "x = torch.as_tensor(np.array([a]).astype('float'))\n",
    "x"
   ]
  },
  {
   "cell_type": "code",
   "execution_count": 21,
   "id": "16ed3859-0285-478a-83cf-ff06fb0770a5",
   "metadata": {},
   "outputs": [
    {
     "name": "stdout",
     "output_type": "stream",
     "text": [
      "tensor([[ 4.24e+02,  1.86e+00,  2.50e-01,  4.78e-01, -2.10e-03, -6.30e-04,\n",
      "          5.80e+01, -9.54e+00,  7.00e+01,  9.85e+00, -2.00e+00,  2.00e+00,\n",
      "         -1.08e+00, -1.84e-01,  2.85e+00, -3.22e+00]])\n"
     ]
    }
   ],
   "source": [
    "print(nn.input_pv_to_sim.untransform(x))"
   ]
  },
  {
   "cell_type": "code",
   "execution_count": 24,
   "id": "69d973cf-afaa-473b-a7ba-772f57035fcb",
   "metadata": {},
   "outputs": [
    {
     "name": "stdout",
     "output_type": "stream",
     "text": [
      "tensor(1.86)\n"
     ]
    }
   ],
   "source": [
    "print(nn.input_pv_to_sim.untransform(x)[0][1])"
   ]
  },
  {
   "cell_type": "code",
   "execution_count": 25,
   "id": "2ca10a9e-5c57-42ef-930b-a91ff0dd66ec",
   "metadata": {},
   "outputs": [],
   "source": [
    "x_in=[ 4.2400e-01,  3.0690e+00,  2.5000e+02,  2.4582e-01,  1.0000e-03,\n",
    "          3.0000e-04,  5.8000e+07, -9.5400e+00,  7.0000e+07,  9.8500e+00,\n",
    "          1.8519e+00, -1.8519e+00,  9.2593e-01,  1.6667e-01, -2.6389e+00,\n",
    "          2.9815e+00]\n"
   ]
  },
  {
   "cell_type": "code",
   "execution_count": 27,
   "id": "09f0704f-b45f-454d-840c-01e8fab65e62",
   "metadata": {},
   "outputs": [],
   "source": [
    "o = nn.pred_sim_units(x_in)"
   ]
  },
  {
   "cell_type": "code",
   "execution_count": 33,
   "id": "760ef1f9-f0c0-4d18-8cbe-6db3315d0987",
   "metadata": {},
   "outputs": [
    {
     "data": {
      "text/plain": [
       "tensor([1.40e+16, 8.87e+16, 6.33e+09, 3.12e+07, 9.23e+07], dtype=torch.float64)"
      ]
     },
     "execution_count": 33,
     "metadata": {},
     "output_type": "execute_result"
    }
   ],
   "source": [
    "o"
   ]
  },
  {
   "cell_type": "code",
   "execution_count": 32,
   "id": "5df31280-b854-4dbf-a200-511fd5c21987",
   "metadata": {},
   "outputs": [
    {
     "data": {
      "text/plain": [
       "8.873641829697886e+16"
      ]
     },
     "execution_count": 32,
     "metadata": {},
     "output_type": "execute_result"
    }
   ],
   "source": [
    "o[1].detach().item()\n"
   ]
  },
  {
   "cell_type": "code",
   "execution_count": null,
   "id": "4006c439-ea1d-4ed8-93e8-ca1c05a44da1",
   "metadata": {},
   "outputs": [],
   "source": []
  }
 ],
 "metadata": {
  "kernelspec": {
   "display_name": "Python 3 (ipykernel)",
   "language": "python",
   "name": "python3"
  },
  "language_info": {
   "codemirror_mode": {
    "name": "ipython",
    "version": 3
   },
   "file_extension": ".py",
   "mimetype": "text/x-python",
   "name": "python",
   "nbconvert_exporter": "python",
   "pygments_lexer": "ipython3",
   "version": "3.11.9"
  }
 },
 "nbformat": 4,
 "nbformat_minor": 5
}
